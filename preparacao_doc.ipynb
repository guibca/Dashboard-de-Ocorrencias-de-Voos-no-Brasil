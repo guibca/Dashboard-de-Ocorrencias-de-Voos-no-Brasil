{
  "nbformat": 4,
  "nbformat_minor": 0,
  "metadata": {
    "colab": {
      "provenance": [],
      "collapsed_sections": [
        "biHthbih_rPG"
      ]
    },
    "kernelspec": {
      "name": "python3",
      "display_name": "Python 3"
    },
    "language_info": {
      "name": "python"
    }
  },
  "cells": [
    {
      "cell_type": "markdown",
      "source": [
        "#Obtendo dados do arquivo CSV"
      ],
      "metadata": {
        "id": "EHJ3_gks_lCv"
      }
    },
    {
      "cell_type": "code",
      "execution_count": 60,
      "metadata": {
        "id": "yA4wgtENcgVl",
        "colab": {
          "base_uri": "https://localhost:8080/"
        },
        "outputId": "35d21b21-48c3-434e-ce01-6c1e2b224577"
      },
      "outputs": [
        {
          "output_type": "stream",
          "name": "stderr",
          "text": [
            "/usr/local/lib/python3.9/dist-packages/IPython/core/interactiveshell.py:3326: DtypeWarning: Columns (3,16) have mixed types.Specify dtype option on import or set low_memory=False.\n",
            "  exec(code_obj, self.user_global_ns, self.user_ns)\n",
            "/usr/local/lib/python3.9/dist-packages/IPython/core/interactiveshell.py:3326: DtypeWarning: Columns (3) have mixed types.Specify dtype option on import or set low_memory=False.\n",
            "  exec(code_obj, self.user_global_ns, self.user_ns)\n"
          ]
        }
      ],
      "source": [
        "import pandas as pd\n",
        "#define variavel com o local de cada arquivo\n",
        "arquivo_2020 = '/content/drive/MyDrive/Data Analytics/Projetos/Voos/arquivos/2020 - VRA_20230304002419.csv'\n",
        "arquivo_2021 = '/content/drive/MyDrive/Data Analytics/Projetos/Voos/arquivos/2021 - VRA_20230304002254.csv'\n",
        "arquivo_2022 = '/content/drive/MyDrive/Data Analytics/Projetos/Voos/arquivos/2022 - VRA_20230304001948.csv'\n",
        "arquivo_2023 = '/content/drive/MyDrive/Data Analytics/Projetos/Voos/arquivos/2023 - VRA_20230304002520.csv'\n",
        "\n",
        "#realiza a leitura dos arquivos csv\n",
        "dados_2020 = pd.read_csv(arquivo_2020, sep = ';')\n",
        "dados_2021 = pd.read_csv(arquivo_2021, sep = ';')\n",
        "dados_2022 = pd.read_csv(arquivo_2022, sep = ';')\n",
        "dados_2023 = pd.read_csv(arquivo_2023, sep = ';')\n",
        "\n",
        "#concatena todos os arquivos em um unico dataframe\n",
        "dados_voos = pd.concat([dados_2020, dados_2021, dados_2022, dados_2023])\n",
        "\n"
      ]
    },
    {
      "cell_type": "markdown",
      "source": [
        "#Extrai e acrescenta novas informações ao dados"
      ],
      "metadata": {
        "id": "J8-ckdyV-nB9"
      }
    },
    {
      "cell_type": "code",
      "source": [
        "#Filtrando dataframe apenas com as colunas necessárias\n",
        "#Filtrando apenas dados onde o voo foi realizado\n",
        "dados_voos = dados_voos.filter(items=\\\n",
        "                     ['Chegada Real','Empresa Aérea', 'Descrição Aeroporto Origem',\\\n",
        "                      'Descrição Aeroporto Destino','Situação Voo'])\\\n",
        "                      .where(dados_voos['Situação Voo'] == 'REALIZADO')\\\n",
        "                      .dropna()\n",
        "\n",
        "#Nota-se que a coluna ['Descrição Aeroporto Destino'] tem a seguinte estrutura \n",
        "#NOME AEROPORTO - CIDADE - ESTADO - PAÍS\n",
        "\n",
        "#Cria uma nova coluna extraindo apenas os paises de origem do voo\n",
        "dados_voos['pais_origem'] =  dados_voos['Descrição Aeroporto Origem'].str.split(' - ').str[-1]\n",
        "#Cria uma nova coluna extraindo apenas os paises de destino do voo\n",
        "dados_voos['pais_destino'] = dados_voos['Descrição Aeroporto Destino'].str.split(' - ').str[-1]\n",
        "#Cria uma nova coluna para classificar voos entre nacionais e internacionais\n",
        "import numpy as np\n",
        "dados_voos['destino_voo'] = np.where(dados_voos['pais_destino'] == 'BRASIL','Nacional','Internacional' )\n",
        "\n",
        "#Para voos nacionais, será extraido também cidade e estado do destino.\n",
        "#Cria uma nova coluna extraindo apenas a cidade de destino do voo\n",
        "dados_voos['cidade_destino'] = dados_voos['Descrição Aeroporto Destino'].str.split(' - ').str[-3]\n",
        "#Cria uma nova coluna extraindo apenas o estado de destino do voo\n",
        "dados_voos['estado_destino'] = dados_voos['Descrição Aeroporto Destino'].str.split(' - ').str[-2]\n",
        "\n",
        "#Cria coluna mes-ano para agrupamento dos registros\n",
        "#Converte coluna Chegada Real para formato de data\n",
        "dados_voos['Chegada Real'] = pd.to_datetime(dados_voos['Chegada Real'])\n",
        "#Cria coluna com a data em formato mes/ano em formato de string\n",
        "dados_voos['data'] = dados_voos['Chegada Real'].dt.strftime('%m/%Y')\n",
        "#Converte a coluna data para formato de data\n",
        "dados_voos['data'] = pd.to_datetime(dados_voos['data'])\n"
      ],
      "metadata": {
        "id": "t0_23oyN-lWa"
      },
      "execution_count": 61,
      "outputs": []
    },
    {
      "cell_type": "markdown",
      "source": [
        "#Filtra o dataframe com os dados necessários"
      ],
      "metadata": {
        "id": "JOfbFBJcFVad"
      }
    },
    {
      "cell_type": "code",
      "source": [
        "#Cria dataframe de voos nacionais\n",
        "#Filtra dataframe apenas com dados de voos nacionais partidos do Brasil\n",
        "dados_voos_nac = dados_voos[dados_voos['destino_voo'] == 'Nacional']\n",
        "dados_voos_nac = dados_voos_nac[dados_voos_nac['pais_origem'] == 'BRASIL']\n",
        "\n",
        "#Agrupa o data frame por mes x ano x destino\n",
        "dados_voos_nac = dados_voos_nac.filter(items = ['data','estado_destino','cidade_destino','Situação Voo'])\\\n",
        ".groupby(['data','estado_destino','cidade_destino'], as_index = False)\\\n",
        ".count()\\\n",
        ".sort_values(by= 'data')"
      ],
      "metadata": {
        "id": "WxrIOspAvN6Q"
      },
      "execution_count": 62,
      "outputs": []
    },
    {
      "cell_type": "markdown",
      "source": [
        "# Exporta dataframe gerado para um arquivo CSV"
      ],
      "metadata": {
        "id": "KcodtI1XRjA4"
      }
    },
    {
      "cell_type": "code",
      "source": [
        "#Exporta dataframe para arquivo CSV\n",
        "dados_voos_nac.to_csv('dados_voos_nac.csv', index = False)"
      ],
      "metadata": {
        "id": "D13oeTREltBo"
      },
      "execution_count": 63,
      "outputs": []
    }
  ]
}